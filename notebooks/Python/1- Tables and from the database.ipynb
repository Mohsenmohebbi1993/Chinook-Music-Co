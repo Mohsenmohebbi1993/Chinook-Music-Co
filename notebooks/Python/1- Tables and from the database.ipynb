{
 "cells": [
  {
   "cell_type": "markdown",
   "metadata": {},
   "source": [
    "## Python And MySQL\n",
    "\n",
    "install mysql.connector\n",
    "\n",
    "Start by creating a connection to the database.\n",
    "\n",
    "\n"
   ]
  },
  {
   "cell_type": "code",
   "execution_count": 21,
   "metadata": {},
   "outputs": [],
   "source": [
    "import mysql.connector\n",
    "import json\n",
    "import numpy as np\n",
    "import pandas as pd"
   ]
  },
  {
   "cell_type": "markdown",
   "metadata": {},
   "source": [
    "## connector python to MySQL\n",
    "create Config\n",
    "### select\n",
    "1- host\n",
    "\n",
    "2- username\n",
    "\n",
    "3- password\n",
    "\n",
    "4- database (name)"
   ]
  },
  {
   "cell_type": "code",
   "execution_count": null,
   "metadata": {},
   "outputs": [],
   "source": [
    "import json\n",
    "config = {\n",
    "  \"host\": \"localhost\",\n",
    "  \"port\": 3306,\n",
    "  \"user\": \"root\",\n",
    "  \"password\": \"123456789\",\n",
    "  \"database\": \"chinook\"\n",
    "}\n",
    "with open(\"D:/Last project Data Analayses/Music Analysis/notebooks/Python/config.json\", \"w\") as outfile: \n",
    "    json.dump(config, outfile)\n"
   ]
  },
  {
   "cell_type": "code",
   "execution_count": 41,
   "metadata": {},
   "outputs": [],
   "source": [
    "with open (\"D:/Last project Data Analayses/Music Analysis/notebooks/Python/config.json\",\"r\") as config_file:\n",
    "    db_config = json.load(config_file)"
   ]
  },
  {
   "cell_type": "code",
   "execution_count": 50,
   "metadata": {},
   "outputs": [],
   "source": [
    "conn = mysql.connector.connect(\n",
    "  host = db_config['host'],\n",
    "  port = db_config['port'],\n",
    "  user = db_config['user'],\n",
    "  password = db_config['password'],\n",
    "  database= db_config['database']\n",
    ")"
   ]
  },
  {
   "cell_type": "code",
   "execution_count": 19,
   "metadata": {},
   "outputs": [
    {
     "name": "stdout",
     "output_type": "stream",
     "text": [
      "<class 'pandas.core.frame.DataFrame'>\n",
      "RangeIndex: 59 entries, 0 to 58\n",
      "Data columns (total 13 columns):\n",
      " #   Column        Non-Null Count  Dtype \n",
      "---  ------        --------------  ----- \n",
      " 0   CustomerId    59 non-null     int64 \n",
      " 1   FirstName     59 non-null     object\n",
      " 2   LastName      59 non-null     object\n",
      " 3   Company       10 non-null     object\n",
      " 4   Address       59 non-null     object\n",
      " 5   City          59 non-null     object\n",
      " 6   State         30 non-null     object\n",
      " 7   Country       59 non-null     object\n",
      " 8   PostalCode    55 non-null     object\n",
      " 9   Phone         58 non-null     object\n",
      " 10  Fax           12 non-null     object\n",
      " 11  Email         59 non-null     object\n",
      " 12  SupportRepId  59 non-null     int64 \n",
      "dtypes: int64(2), object(11)\n",
      "memory usage: 6.1+ KB\n"
     ]
    },
    {
     "name": "stderr",
     "output_type": "stream",
     "text": [
      "C:\\Users\\user\\Oracel19c\\admin\\orcl\\Temp\\ipykernel_11200\\2539238281.py:5: UserWarning: pandas only supports SQLAlchemy connectable (engine/connection) or database string URI or sqlite3 DBAPI2 connection. Other DBAPI2 objects are not tested. Please consider using SQLAlchemy.\n",
      "  df = pd.read_sql(query_1, conn)\n"
     ]
    }
   ],
   "source": [
    "query_1 = \"\"\"\n",
    "SELECT * from customer\"\"\"\n",
    "\n",
    "\n",
    "df = pd.read_sql(query_1, conn)\n",
    "df.info()\n"
   ]
  }
 ],
 "metadata": {
  "kernelspec": {
   "display_name": "Music_venv",
   "language": "python",
   "name": "python3"
  },
  "language_info": {
   "codemirror_mode": {
    "name": "ipython",
    "version": 3
   },
   "file_extension": ".py",
   "mimetype": "text/x-python",
   "name": "python",
   "nbconvert_exporter": "python",
   "pygments_lexer": "ipython3",
   "version": "3.12.3"
  }
 },
 "nbformat": 4,
 "nbformat_minor": 2
}
