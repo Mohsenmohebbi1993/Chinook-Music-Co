{
 "cells": [
  {
   "cell_type": "markdown",
   "metadata": {},
   "source": [
    "## Python And MySQL\n",
    "\n",
    "install mysql.connector\n",
    "\n",
    "Start by creating a connection to the database.\n",
    "\n",
    "\n"
   ]
  },
  {
   "cell_type": "code",
   "execution_count": 21,
   "metadata": {},
   "outputs": [],
   "source": [
    "import mysql.connector\n",
    "import json\n",
    "import numpy as np\n",
    "import pandas as pd"
   ]
  },
  {
   "cell_type": "markdown",
   "metadata": {},
   "source": [
    "## connector python to MySQL\n",
    "create Config\n",
    "### select\n",
    "1- host\n",
    "\n",
    "2- username\n",
    "\n",
    "3- password\n",
    "\n",
    "4- database (name)"
   ]
  },
  {
   "cell_type": "code",
   "execution_count": null,
   "metadata": {},
   "outputs": [],
   "source": [
    "import json\n",
    "config = {\n",
    "  \"host\": \"localhost\",\n",
    "  \"port\": 3306,\n",
    "  \"user\": \"root\",\n",
    "  \"password\": \"123456789\",\n",
    "  \"database\": \"chinook\"\n",
    "}\n",
    "with open(\"D:/Last project Data Analayses/Music Analysis/notebooks/Python/config.json\", \"w\") as outfile: \n",
    "    json.dump(config, outfile)\n"
   ]
  },
  {
   "cell_type": "code",
   "execution_count": 41,
   "metadata": {},
   "outputs": [],
   "source": [
    "with open (\"D:/Last project Data Analayses/Music Analysis/notebooks/Python/config.json\",\"r\") as config_file:\n",
    "    db_config = json.load(config_file)"
   ]
  },
  {
   "cell_type": "code",
   "execution_count": 65,
   "metadata": {},
   "outputs": [],
   "source": [
    "conn = mysql.connector.connect(\n",
    "  host = db_config['host'],\n",
    "  port = db_config['port'],\n",
    "  user = db_config['user'],\n",
    "  password = db_config['password'],\n",
    "  database= db_config['database']\n",
    ")"
   ]
  },
  {
   "cell_type": "markdown",
   "metadata": {},
   "source": [
    "show Tabels in chinook database"
   ]
  },
  {
   "cell_type": "code",
   "execution_count": 66,
   "metadata": {},
   "outputs": [
    {
     "name": "stderr",
     "output_type": "stream",
     "text": [
      "C:\\Users\\user\\Oracel19c\\admin\\orcl\\Temp\\ipykernel_11200\\276777924.py:2: UserWarning: pandas only supports SQLAlchemy connectable (engine/connection) or database string URI or sqlite3 DBAPI2 connection. Other DBAPI2 objects are not tested. Please consider using SQLAlchemy.\n",
      "  name_of_tabels = pd.read_sql(name_tables_database, conn)\n"
     ]
    },
    {
     "data": {
      "text/html": [
       "<div>\n",
       "<style scoped>\n",
       "    .dataframe tbody tr th:only-of-type {\n",
       "        vertical-align: middle;\n",
       "    }\n",
       "\n",
       "    .dataframe tbody tr th {\n",
       "        vertical-align: top;\n",
       "    }\n",
       "\n",
       "    .dataframe thead th {\n",
       "        text-align: right;\n",
       "    }\n",
       "</style>\n",
       "<table border=\"1\" class=\"dataframe\">\n",
       "  <thead>\n",
       "    <tr style=\"text-align: right;\">\n",
       "      <th></th>\n",
       "      <th>Tables_in_chinook</th>\n",
       "    </tr>\n",
       "  </thead>\n",
       "  <tbody>\n",
       "    <tr>\n",
       "      <th>0</th>\n",
       "      <td>album</td>\n",
       "    </tr>\n",
       "    <tr>\n",
       "      <th>1</th>\n",
       "      <td>artist</td>\n",
       "    </tr>\n",
       "    <tr>\n",
       "      <th>2</th>\n",
       "      <td>customer</td>\n",
       "    </tr>\n",
       "    <tr>\n",
       "      <th>3</th>\n",
       "      <td>employee</td>\n",
       "    </tr>\n",
       "    <tr>\n",
       "      <th>4</th>\n",
       "      <td>genre</td>\n",
       "    </tr>\n",
       "    <tr>\n",
       "      <th>5</th>\n",
       "      <td>invoice</td>\n",
       "    </tr>\n",
       "    <tr>\n",
       "      <th>6</th>\n",
       "      <td>invoiceline</td>\n",
       "    </tr>\n",
       "    <tr>\n",
       "      <th>7</th>\n",
       "      <td>mediatype</td>\n",
       "    </tr>\n",
       "    <tr>\n",
       "      <th>8</th>\n",
       "      <td>playlist</td>\n",
       "    </tr>\n",
       "    <tr>\n",
       "      <th>9</th>\n",
       "      <td>playlisttrack</td>\n",
       "    </tr>\n",
       "    <tr>\n",
       "      <th>10</th>\n",
       "      <td>track</td>\n",
       "    </tr>\n",
       "  </tbody>\n",
       "</table>\n",
       "</div>"
      ],
      "text/plain": [
       "   Tables_in_chinook\n",
       "0              album\n",
       "1             artist\n",
       "2           customer\n",
       "3           employee\n",
       "4              genre\n",
       "5            invoice\n",
       "6        invoiceline\n",
       "7          mediatype\n",
       "8           playlist\n",
       "9      playlisttrack\n",
       "10             track"
      ]
     },
     "execution_count": 66,
     "metadata": {},
     "output_type": "execute_result"
    }
   ],
   "source": [
    "name_tables_database = \"show tables\"\n",
    "name_of_tabels = pd.read_sql(name_tables_database, conn)\n",
    "name_of_tabels"
   ]
  },
  {
   "cell_type": "code",
   "execution_count": 51,
   "metadata": {},
   "outputs": [
    {
     "name": "stdout",
     "output_type": "stream",
     "text": [
      "<class 'pandas.core.frame.DataFrame'>\n",
      "RangeIndex: 59 entries, 0 to 58\n",
      "Data columns (total 13 columns):\n",
      " #   Column        Non-Null Count  Dtype \n",
      "---  ------        --------------  ----- \n",
      " 0   CustomerId    59 non-null     int64 \n",
      " 1   FirstName     59 non-null     object\n",
      " 2   LastName      59 non-null     object\n",
      " 3   Company       10 non-null     object\n",
      " 4   Address       59 non-null     object\n",
      " 5   City          59 non-null     object\n",
      " 6   State         30 non-null     object\n",
      " 7   Country       59 non-null     object\n",
      " 8   PostalCode    55 non-null     object\n",
      " 9   Phone         58 non-null     object\n",
      " 10  Fax           12 non-null     object\n",
      " 11  Email         59 non-null     object\n",
      " 12  SupportRepId  59 non-null     int64 \n",
      "dtypes: int64(2), object(11)\n",
      "memory usage: 6.1+ KB\n"
     ]
    },
    {
     "name": "stderr",
     "output_type": "stream",
     "text": [
      "C:\\Users\\user\\Oracel19c\\admin\\orcl\\Temp\\ipykernel_11200\\2740900701.py:4: UserWarning: pandas only supports SQLAlchemy connectable (engine/connection) or database string URI or sqlite3 DBAPI2 connection. Other DBAPI2 objects are not tested. Please consider using SQLAlchemy.\n",
      "  df = pd.read_sql(query_1, conn)\n"
     ]
    }
   ],
   "source": [
    "query_1 = \"\"\"\n",
    "SELECT * from customer\"\"\"\n",
    "\n",
    "df = pd.read_sql(query_1, conn)\n",
    "df.info()\n"
   ]
  }
 ],
 "metadata": {
  "kernelspec": {
   "display_name": "Music_venv",
   "language": "python",
   "name": "python3"
  },
  "language_info": {
   "codemirror_mode": {
    "name": "ipython",
    "version": 3
   },
   "file_extension": ".py",
   "mimetype": "text/x-python",
   "name": "python",
   "nbconvert_exporter": "python",
   "pygments_lexer": "ipython3",
   "version": "3.12.3"
  }
 },
 "nbformat": 4,
 "nbformat_minor": 2
}
