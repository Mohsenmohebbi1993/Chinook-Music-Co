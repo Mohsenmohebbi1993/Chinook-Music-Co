{
 "cells": [
  {
   "cell_type": "markdown",
   "metadata": {},
   "source": [
    "# Analysis Data\n"
   ]
  },
  {
   "cell_type": "code",
   "execution_count": null,
   "metadata": {},
   "outputs": [],
   "source": [
    "import numpy as np\n",
    "import pandas as pd\n",
    "import os"
   ]
  },
  {
   "cell_type": "code",
   "execution_count": null,
   "metadata": {},
   "outputs": [],
   "source": [
    "path = \"D:/Last project Data Analayses/Music Analysis/data/processed/Dataframe\"\n",
    "dir_list = os.listdir(path)\n",
    "variable_names = dir_list.copy()\n",
    "for i in range(len(variable_names)):\n",
    "    variable_names[i] = variable_names[i].replace(\".csv\",\"\")\n",
    "\n",
    "file_names = dir_list\n",
    "\n",
    "for var_name, file_name in zip(variable_names, file_names):\n",
    "    print(f\"name {var_name}    and file {var_name}\")\n",
    "    globals()[var_name] = pd.read_csv(f'D:/Last project Data Analayses/Music Analysis/data/processed/Dataframe/{file_name}').drop(\"Unnamed: 0\", axis=1)"
   ]
  }
 ],
 "metadata": {
  "language_info": {
   "name": "python"
  }
 },
 "nbformat": 4,
 "nbformat_minor": 2
}
