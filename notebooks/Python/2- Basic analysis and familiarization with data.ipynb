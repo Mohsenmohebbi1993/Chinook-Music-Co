{
 "cells": [
  {
   "cell_type": "markdown",
   "metadata": {},
   "source": [
    "## Basic analysis and familiarization with data\n",
    "1. Read Data from folder\n",
    "2. Description data"
   ]
  },
  {
   "cell_type": "code",
   "execution_count": 1,
   "metadata": {},
   "outputs": [],
   "source": [
    "import numpy as np\n",
    "import pandas as pd\n",
    "import os\n"
   ]
  },
  {
   "cell_type": "code",
   "execution_count": 2,
   "metadata": {},
   "outputs": [],
   "source": [
    "path = \"D:/Last project Data Analayses/Music Analysis/data/processed/Dataframe\"\n",
    "dir_list = os.listdir(path)"
   ]
  },
  {
   "cell_type": "code",
   "execution_count": 3,
   "metadata": {},
   "outputs": [
    {
     "name": "stdout",
     "output_type": "stream",
     "text": [
      "name album    and file album\n",
      "name artist    and file artist\n",
      "name customer    and file customer\n",
      "name employee    and file employee\n",
      "name genre    and file genre\n",
      "name invoice    and file invoice\n",
      "name invoiceline    and file invoiceline\n",
      "name mediatype    and file mediatype\n",
      "name playlist    and file playlist\n",
      "name playlisttrack    and file playlisttrack\n",
      "name track    and file track\n"
     ]
    }
   ],
   "source": [
    "variable_names = dir_list.copy()\n",
    "for i in range(len(variable_names)):\n",
    "    variable_names[i] = variable_names[i].replace(\".csv\",\"\")\n",
    "\n",
    "file_names = dir_list\n",
    "\n",
    "for var_name, file_name in zip(variable_names, file_names):\n",
    "    print(f\"name {var_name}    and file {var_name}\")\n",
    "    globals()[var_name] = pd.read_csv(f'D:/Last project Data Analayses/Music Analysis/data/processed/Dataframe/{file_name}').drop(\"Unnamed: 0\", axis=1)"
   ]
  },
  {
   "cell_type": "code",
   "execution_count": 130,
   "metadata": {},
   "outputs": [],
   "source": [
    "class display(object):\n",
    "    \"\"\"Display HTML representation of multiple objects\"\"\"\n",
    "    template = \"\"\"<div style=\"float: left; padding: 10px;\">\n",
    "    <p style='font-family:\"Courier New\", Courier, monospace'>{0}</p>{1}\n",
    "    </div>\"\"\"\n",
    "    def __init__(self, *args):\n",
    "        self.args = args\n",
    "        \n",
    "    def _repr_html_(self):\n",
    "        return '\\n'.join(self.template.format(a, eval(a)._repr_html_())\n",
    "                         for a in self.args)\n",
    "    \n",
    "    def __repr__(self):\n",
    "        return '\\n\\n'.join(a + '\\n' + repr(eval(a))\n",
    "                           for a in self.args)\n",
    "    "
   ]
  },
  {
   "cell_type": "markdown",
   "metadata": {},
   "source": [
    "### Discrabe dataframes\n",
    "overview"
   ]
  },
  {
   "cell_type": "code",
   "execution_count": 4,
   "metadata": {},
   "outputs": [
    {
     "name": "stdout",
     "output_type": "stream",
     "text": [
      "count album         : 347\n",
      "count artist        : 275\n",
      "count customer      : 59\n",
      "count employee      : 8\n",
      "count genre         : 25\n",
      "count invoice       : 412\n",
      "count mediatype     : 5\n",
      "count playlist      : 18\n",
      "count playlisttrack : 8715\n",
      "count track         : 3503\n"
     ]
    }
   ],
   "source": [
    "print(f\"\"\"count album         : {album[\"AlbumId\"].count()}\n",
    "count artist        : {artist[\"ArtistId\"].count()}\n",
    "count customer      : {customer[\"CustomerId\"].count()}\n",
    "count employee      : {employee[\"EmployeeId\"].count()}\n",
    "count genre         : {genre[\"GenreId\"].count()}\n",
    "count invoice       : {invoice[\"InvoiceId\"].count()}\n",
    "count mediatype     : {mediatype[\"MediaTypeId\"].count()}\n",
    "count playlist      : {playlist[\"PlaylistId\"].count()}\n",
    "count playlisttrack : {playlisttrack[\"PlaylistId\"].count()}\n",
    "count track         : {track[\"TrackId\"].count()}\"\"\")"
   ]
  },
  {
   "cell_type": "markdown",
   "metadata": {},
   "source": [
    "invoice  Table"
   ]
  },
  {
   "cell_type": "code",
   "execution_count": 5,
   "metadata": {},
   "outputs": [
    {
     "name": "stdout",
     "output_type": "stream",
     "text": [
      "<class 'pandas.core.frame.DataFrame'>\n",
      "RangeIndex: 412 entries, 0 to 411\n",
      "Data columns (total 9 columns):\n",
      " #   Column             Non-Null Count  Dtype  \n",
      "---  ------             --------------  -----  \n",
      " 0   InvoiceId          412 non-null    int64  \n",
      " 1   CustomerId         412 non-null    int64  \n",
      " 2   InvoiceDate        412 non-null    object \n",
      " 3   BillingAddress     412 non-null    object \n",
      " 4   BillingCity        412 non-null    object \n",
      " 5   BillingState       210 non-null    object \n",
      " 6   BillingCountry     412 non-null    object \n",
      " 7   BillingPostalCode  384 non-null    object \n",
      " 8   Total              412 non-null    float64\n",
      "dtypes: float64(1), int64(2), object(6)\n",
      "memory usage: 29.1+ KB\n"
     ]
    }
   ],
   "source": [
    "invoice.info()"
   ]
  },
  {
   "cell_type": "code",
   "execution_count": 6,
   "metadata": {},
   "outputs": [
    {
     "data": {
      "text/plain": [
       "InvoiceId              0\n",
       "CustomerId             0\n",
       "InvoiceDate            0\n",
       "BillingAddress         0\n",
       "BillingCity            0\n",
       "BillingState         202\n",
       "BillingCountry         0\n",
       "BillingPostalCode     28\n",
       "Total                  0\n",
       "dtype: int64"
      ]
     },
     "execution_count": 6,
     "metadata": {},
     "output_type": "execute_result"
    }
   ],
   "source": [
    "invoice.isnull().sum()"
   ]
  },
  {
   "cell_type": "markdown",
   "metadata": {},
   "source": [
    "invoiceline Table"
   ]
  },
  {
   "cell_type": "code",
   "execution_count": 7,
   "metadata": {},
   "outputs": [
    {
     "name": "stdout",
     "output_type": "stream",
     "text": [
      "<class 'pandas.core.frame.DataFrame'>\n",
      "RangeIndex: 2240 entries, 0 to 2239\n",
      "Data columns (total 5 columns):\n",
      " #   Column         Non-Null Count  Dtype  \n",
      "---  ------         --------------  -----  \n",
      " 0   InvoiceLineId  2240 non-null   int64  \n",
      " 1   InvoiceId      2240 non-null   int64  \n",
      " 2   TrackId        2240 non-null   int64  \n",
      " 3   UnitPrice      2240 non-null   float64\n",
      " 4   Quantity       2240 non-null   int64  \n",
      "dtypes: float64(1), int64(4)\n",
      "memory usage: 87.6 KB\n"
     ]
    }
   ],
   "source": [
    "invoiceline.info()"
   ]
  },
  {
   "cell_type": "code",
   "execution_count": 10,
   "metadata": {},
   "outputs": [
    {
     "data": {
      "text/html": [
       "<div>\n",
       "<style scoped>\n",
       "    .dataframe tbody tr th:only-of-type {\n",
       "        vertical-align: middle;\n",
       "    }\n",
       "\n",
       "    .dataframe tbody tr th {\n",
       "        vertical-align: top;\n",
       "    }\n",
       "\n",
       "    .dataframe thead th {\n",
       "        text-align: right;\n",
       "    }\n",
       "</style>\n",
       "<table border=\"1\" class=\"dataframe\">\n",
       "  <thead>\n",
       "    <tr style=\"text-align: right;\">\n",
       "      <th></th>\n",
       "      <th>UnitPrice</th>\n",
       "      <th>Quantity</th>\n",
       "    </tr>\n",
       "  </thead>\n",
       "  <tbody>\n",
       "    <tr>\n",
       "      <th>count</th>\n",
       "      <td>2240.000000</td>\n",
       "      <td>2240.0</td>\n",
       "    </tr>\n",
       "    <tr>\n",
       "      <th>mean</th>\n",
       "      <td>1.039554</td>\n",
       "      <td>1.0</td>\n",
       "    </tr>\n",
       "    <tr>\n",
       "      <th>std</th>\n",
       "      <td>0.217069</td>\n",
       "      <td>0.0</td>\n",
       "    </tr>\n",
       "    <tr>\n",
       "      <th>min</th>\n",
       "      <td>0.990000</td>\n",
       "      <td>1.0</td>\n",
       "    </tr>\n",
       "    <tr>\n",
       "      <th>25%</th>\n",
       "      <td>0.990000</td>\n",
       "      <td>1.0</td>\n",
       "    </tr>\n",
       "    <tr>\n",
       "      <th>50%</th>\n",
       "      <td>0.990000</td>\n",
       "      <td>1.0</td>\n",
       "    </tr>\n",
       "    <tr>\n",
       "      <th>75%</th>\n",
       "      <td>0.990000</td>\n",
       "      <td>1.0</td>\n",
       "    </tr>\n",
       "    <tr>\n",
       "      <th>max</th>\n",
       "      <td>1.990000</td>\n",
       "      <td>1.0</td>\n",
       "    </tr>\n",
       "  </tbody>\n",
       "</table>\n",
       "</div>"
      ],
      "text/plain": [
       "         UnitPrice  Quantity\n",
       "count  2240.000000    2240.0\n",
       "mean      1.039554       1.0\n",
       "std       0.217069       0.0\n",
       "min       0.990000       1.0\n",
       "25%       0.990000       1.0\n",
       "50%       0.990000       1.0\n",
       "75%       0.990000       1.0\n",
       "max       1.990000       1.0"
      ]
     },
     "execution_count": 10,
     "metadata": {},
     "output_type": "execute_result"
    }
   ],
   "source": [
    "invoiceline[[\"UnitPrice\", \"Quantity\"]].describe()"
   ]
  }
 ],
 "metadata": {
  "kernelspec": {
   "display_name": "Music_venv",
   "language": "python",
   "name": "python3"
  },
  "language_info": {
   "codemirror_mode": {
    "name": "ipython",
    "version": 3
   },
   "file_extension": ".py",
   "mimetype": "text/x-python",
   "name": "python",
   "nbconvert_exporter": "python",
   "pygments_lexer": "ipython3",
   "version": "3.12.3"
  }
 },
 "nbformat": 4,
 "nbformat_minor": 2
}
