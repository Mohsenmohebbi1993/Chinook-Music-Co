{
 "cells": [
  {
   "cell_type": "markdown",
   "metadata": {},
   "source": [
    "## Basic analysis and familiarization with data\n",
    "1. Read Data from folder\n",
    "2. Description data"
   ]
  },
  {
   "cell_type": "code",
   "execution_count": 106,
   "metadata": {},
   "outputs": [],
   "source": [
    "import numpy as np\n",
    "import pandas as pd\n",
    "import os\n"
   ]
  },
  {
   "cell_type": "code",
   "execution_count": 85,
   "metadata": {},
   "outputs": [],
   "source": [
    "path = \"D:/Last project Data Analayses/Music Analysis/data/processed/Dataframe\"\n",
    "dir_list = os.listdir(path)"
   ]
  },
  {
   "cell_type": "code",
   "execution_count": 163,
   "metadata": {},
   "outputs": [
    {
     "name": "stdout",
     "output_type": "stream",
     "text": [
      "name album    and file album\n",
      "name artist    and file artist\n",
      "name customer    and file customer\n",
      "name employee    and file employee\n",
      "name genre    and file genre\n",
      "name invoice    and file invoice\n",
      "name invoiceline    and file invoiceline\n",
      "name mediatype    and file mediatype\n",
      "name playlist    and file playlist\n",
      "name playlisttrack    and file playlisttrack\n",
      "name track    and file track\n"
     ]
    }
   ],
   "source": [
    "variable_names = dir_list.copy()\n",
    "for i in range(len(variable_names)):\n",
    "    variable_names[i] = variable_names[i].replace(\".csv\",\"\")\n",
    "\n",
    "file_names = dir_list\n",
    "\n",
    "for var_name, file_name in zip(variable_names, file_names):\n",
    "    print(f\"name {var_name}    and file {var_name}\")\n",
    "    globals()[var_name] = pd.read_csv(f'D:/Last project Data Analayses/Music Analysis/data/processed/Dataframe/{file_name}').drop(\"Unnamed: 0\", axis=1)"
   ]
  },
  {
   "cell_type": "code",
   "execution_count": 130,
   "metadata": {},
   "outputs": [],
   "source": [
    "class display(object):\n",
    "    \"\"\"Display HTML representation of multiple objects\"\"\"\n",
    "    template = \"\"\"<div style=\"float: left; padding: 10px;\">\n",
    "    <p style='font-family:\"Courier New\", Courier, monospace'>{0}</p>{1}\n",
    "    </div>\"\"\"\n",
    "    def __init__(self, *args):\n",
    "        self.args = args\n",
    "        \n",
    "    def _repr_html_(self):\n",
    "        return '\\n'.join(self.template.format(a, eval(a)._repr_html_())\n",
    "                         for a in self.args)\n",
    "    \n",
    "    def __repr__(self):\n",
    "        return '\\n\\n'.join(a + '\\n' + repr(eval(a))\n",
    "                           for a in self.args)\n",
    "    "
   ]
  },
  {
   "cell_type": "markdown",
   "metadata": {},
   "source": [
    "### Discrabe dataframes\n",
    "overview"
   ]
  },
  {
   "cell_type": "code",
   "execution_count": 170,
   "metadata": {},
   "outputs": [
    {
     "name": "stdout",
     "output_type": "stream",
     "text": [
      "count album         : 347\n",
      "count artist        : 275\n",
      "count customer      : 59\n",
      "count employee      : 8\n",
      "count genre         : 25\n",
      "count invoice       : 412\n",
      "count mediatype     : 5\n",
      "count playlist      : 18\n",
      "count playlisttrack : 8715\n",
      "count track         : 3503\n"
     ]
    }
   ],
   "source": [
    "print(f\"\"\"count album         : {album[\"AlbumId\"].count()}\n",
    "count artist        : {artist[\"ArtistId\"].count()}\n",
    "count customer      : {customer[\"CustomerId\"].count()}\n",
    "count employee      : {employee[\"EmployeeId\"].count()}\n",
    "count genre         : {genre[\"GenreId\"].count()}\n",
    "count invoice       : {invoice[\"InvoiceId\"].count()}\n",
    "count mediatype     : {mediatype[\"MediaTypeId\"].count()}\n",
    "count playlist      : {playlist[\"PlaylistId\"].count()}\n",
    "count playlisttrack : {playlisttrack[\"PlaylistId\"].count()}\n",
    "count track         : {track[\"TrackId\"].count()}\"\"\")"
   ]
  }
 ],
 "metadata": {
  "kernelspec": {
   "display_name": "Music_venv",
   "language": "python",
   "name": "python3"
  },
  "language_info": {
   "codemirror_mode": {
    "name": "ipython",
    "version": 3
   },
   "file_extension": ".py",
   "mimetype": "text/x-python",
   "name": "python",
   "nbconvert_exporter": "python",
   "pygments_lexer": "ipython3",
   "version": "3.12.3"
  }
 },
 "nbformat": 4,
 "nbformat_minor": 2
}
