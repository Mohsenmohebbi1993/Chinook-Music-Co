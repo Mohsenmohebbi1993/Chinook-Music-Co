{
 "cells": [
  {
   "cell_type": "markdown",
   "metadata": {},
   "source": [
    "# Confidence interval"
   ]
  },
  {
   "cell_type": "code",
   "execution_count": 1,
   "metadata": {},
   "outputs": [],
   "source": [
    "import numpy as np\n",
    "import pandas as pd\n",
    "import os\n",
    "import matplotlib.pyplot as plt\n",
    "import seaborn as sns\n",
    "#-------------------\n",
    "import scipy.stats as stats\n",
    "import statistics"
   ]
  },
  {
   "cell_type": "code",
   "execution_count": 2,
   "metadata": {},
   "outputs": [
    {
     "name": "stdout",
     "output_type": "stream",
     "text": [
      "name album    and file album\n",
      "name artist    and file artist\n",
      "name customer    and file customer\n",
      "name employee    and file employee\n",
      "name genre    and file genre\n",
      "name invoice    and file invoice\n",
      "name invoiceline    and file invoiceline\n",
      "name mediatype    and file mediatype\n",
      "name playlist    and file playlist\n",
      "name playlisttrack    and file playlisttrack\n",
      "name track    and file track\n"
     ]
    }
   ],
   "source": [
    "# read data and create DataFram\n",
    "path = \"D:/Last project Data Analayses/Music Analysis/data/processed/Dataframe\"\n",
    "dir_list = os.listdir(path)\n",
    "variable_names = dir_list.copy()\n",
    "for i in range(len(variable_names)):\n",
    "    variable_names[i] = variable_names[i].replace(\".csv\",\"\")\n",
    "\n",
    "file_names = dir_list\n",
    "\n",
    "for var_name, file_name in zip(variable_names, file_names):\n",
    "    print(f\"name {var_name}    and file {var_name}\")\n",
    "    globals()[var_name] = pd.read_csv(f'D:/Last project Data Analayses/Music Analysis/data/processed/Dataframe/{file_name}').drop(\"Unnamed: 0\", axis=1)\n"
   ]
  },
  {
   "cell_type": "markdown",
   "metadata": {},
   "source": [
    "Is the length of songs the same in different genres? Calculate their 95% confidence interval for the mean length of songs in each genre"
   ]
  },
  {
   "cell_type": "code",
   "execution_count": 6,
   "metadata": {},
   "outputs": [
    {
     "ename": "AttributeError",
     "evalue": "'DataFrameGroupBy' object has no attribute 'avg'",
     "output_type": "error",
     "traceback": [
      "\u001b[1;31m---------------------------------------------------------------------------\u001b[0m",
      "\u001b[1;31mAttributeError\u001b[0m                            Traceback (most recent call last)",
      "Cell \u001b[1;32mIn[6], line 1\u001b[0m\n\u001b[1;32m----> 1\u001b[0m \u001b[43mtrack\u001b[49m\u001b[38;5;241;43m.\u001b[39;49m\u001b[43mgroupby\u001b[49m\u001b[43m(\u001b[49m\u001b[38;5;124;43m'\u001b[39;49m\u001b[38;5;124;43mGenreId\u001b[39;49m\u001b[38;5;124;43m'\u001b[39;49m\u001b[43m)\u001b[49m\u001b[38;5;241;43m.\u001b[39;49m\u001b[43mavg\u001b[49m()\n",
      "File \u001b[1;32md:\\Last project Data Analayses\\Music Analysis\\Music_venv\\Lib\\site-packages\\pandas\\core\\groupby\\groupby.py:1363\u001b[0m, in \u001b[0;36mGroupBy.__getattr__\u001b[1;34m(self, attr)\u001b[0m\n\u001b[0;32m   1360\u001b[0m \u001b[38;5;28;01mif\u001b[39;00m attr \u001b[38;5;129;01min\u001b[39;00m \u001b[38;5;28mself\u001b[39m\u001b[38;5;241m.\u001b[39mobj:\n\u001b[0;32m   1361\u001b[0m     \u001b[38;5;28;01mreturn\u001b[39;00m \u001b[38;5;28mself\u001b[39m[attr]\n\u001b[1;32m-> 1363\u001b[0m \u001b[38;5;28;01mraise\u001b[39;00m \u001b[38;5;167;01mAttributeError\u001b[39;00m(\n\u001b[0;32m   1364\u001b[0m     \u001b[38;5;124mf\u001b[39m\u001b[38;5;124m\"\u001b[39m\u001b[38;5;124m'\u001b[39m\u001b[38;5;132;01m{\u001b[39;00m\u001b[38;5;28mtype\u001b[39m(\u001b[38;5;28mself\u001b[39m)\u001b[38;5;241m.\u001b[39m\u001b[38;5;18m__name__\u001b[39m\u001b[38;5;132;01m}\u001b[39;00m\u001b[38;5;124m'\u001b[39m\u001b[38;5;124m object has no attribute \u001b[39m\u001b[38;5;124m'\u001b[39m\u001b[38;5;132;01m{\u001b[39;00mattr\u001b[38;5;132;01m}\u001b[39;00m\u001b[38;5;124m'\u001b[39m\u001b[38;5;124m\"\u001b[39m\n\u001b[0;32m   1365\u001b[0m )\n",
      "\u001b[1;31mAttributeError\u001b[0m: 'DataFrameGroupBy' object has no attribute 'avg'"
     ]
    }
   ],
   "source": [
    "track.groupby('GenreId').avg()"
   ]
  },
  {
   "cell_type": "code",
   "execution_count": null,
   "metadata": {},
   "outputs": [],
   "source": [
    "np.count"
   ]
  },
  {
   "cell_type": "code",
   "execution_count": 14,
   "metadata": {},
   "outputs": [
    {
     "name": "stdout",
     "output_type": "stream",
     "text": [
      "<class 'pandas.core.frame.DataFrame'>\n",
      "RangeIndex: 3503 entries, 0 to 3502\n",
      "Data columns (total 9 columns):\n",
      " #   Column        Non-Null Count  Dtype  \n",
      "---  ------        --------------  -----  \n",
      " 0   TrackId       3503 non-null   int64  \n",
      " 1   Name          3503 non-null   object \n",
      " 2   AlbumId       3503 non-null   int64  \n",
      " 3   MediaTypeId   3503 non-null   int64  \n",
      " 4   GenreId       3503 non-null   int64  \n",
      " 5   Composer      2526 non-null   object \n",
      " 6   Milliseconds  3503 non-null   int64  \n",
      " 7   Bytes         3503 non-null   int64  \n",
      " 8   UnitPrice     3503 non-null   float64\n",
      "dtypes: float64(1), int64(6), object(2)\n",
      "memory usage: 246.4+ KB\n"
     ]
    }
   ],
   "source": [
    "track.info()"
   ]
  },
  {
   "cell_type": "code",
   "execution_count": 64,
   "metadata": {},
   "outputs": [
    {
     "data": {
      "text/html": [
       "<div>\n",
       "<style scoped>\n",
       "    .dataframe tbody tr th:only-of-type {\n",
       "        vertical-align: middle;\n",
       "    }\n",
       "\n",
       "    .dataframe tbody tr th {\n",
       "        vertical-align: top;\n",
       "    }\n",
       "\n",
       "    .dataframe thead th {\n",
       "        text-align: right;\n",
       "    }\n",
       "</style>\n",
       "<table border=\"1\" class=\"dataframe\">\n",
       "  <thead>\n",
       "    <tr style=\"text-align: right;\">\n",
       "      <th></th>\n",
       "      <th>GenreId</th>\n",
       "      <th>Name</th>\n",
       "    </tr>\n",
       "  </thead>\n",
       "  <tbody>\n",
       "    <tr>\n",
       "      <th>20</th>\n",
       "      <td>21</td>\n",
       "      <td>Drama</td>\n",
       "    </tr>\n",
       "  </tbody>\n",
       "</table>\n",
       "</div>"
      ],
      "text/plain": [
       "    GenreId   Name\n",
       "20       21  Drama"
      ]
     },
     "execution_count": 64,
     "metadata": {},
     "output_type": "execute_result"
    }
   ],
   "source": [
    "genre[genre['GenreId']==21]"
   ]
  },
  {
   "cell_type": "code",
   "execution_count": 59,
   "metadata": {},
   "outputs": [
    {
     "data": {
      "text/plain": [
       "2818    2622250\n",
       "2824    2563938\n",
       "2825    2713755\n",
       "2826    2622038\n",
       "2827    2623875\n",
       "2828    2618750\n",
       "2829    2624541\n",
       "2830    2624207\n",
       "2831    2626376\n",
       "2832    2620245\n",
       "2833    2627961\n",
       "2834    2622372\n",
       "2835    2621830\n",
       "Name: Milliseconds, dtype: int64"
      ]
     },
     "execution_count": 59,
     "metadata": {},
     "output_type": "execute_result"
    }
   ],
   "source": [
    "a = track[['TrackId', 'GenreId','Milliseconds']]\n",
    "(a[a['GenreId']==18]['Milliseconds'])"
   ]
  },
  {
   "cell_type": "code",
   "execution_count": 61,
   "metadata": {},
   "outputs": [
    {
     "name": "stdout",
     "output_type": "stream",
     "text": [
      "    GenreId  count_track   avg_time\n",
      "0         1         1297   4.731834\n",
      "1         2          130   4.862590\n",
      "2         3          374   5.162491\n",
      "3         4          332   3.905897\n",
      "4         5           12   2.244058\n",
      "5         6           81   4.505996\n",
      "6         7          579   3.880988\n",
      "7         8           58   4.119629\n",
      "8         9           48   3.817235\n",
      "9        10           43   4.072848\n",
      "10       11           15   3.659833\n",
      "11       12           24   3.152737\n",
      "12       13           28   4.957549\n",
      "13       14           61   3.667781\n",
      "14       15           30   5.049763\n",
      "15       16           28   3.748730\n",
      "16       17           35   2.969605\n",
      "17       18           13  43.759151\n",
      "18       19           93  35.750684\n",
      "19       20           26  48.529717\n",
      "20       21           64  42.921396\n",
      "21       22           17  26.421062\n",
      "22       23           40   4.400975\n",
      "23       24           74   4.897793\n",
      "24       25            1   2.913550\n"
     ]
    },
    {
     "data": {
      "text/plain": [
       "<Axes: xlabel='avg_time', ylabel='Count'>"
      ]
     },
     "execution_count": 61,
     "metadata": {},
     "output_type": "execute_result"
    },
    {
     "data": {
      "image/png": "[encoded data removed]",
      "text/plain": [
       "<Figure size 640x480 with 1 Axes>"
      ]
     },
     "metadata": {},
     "output_type": "display_data"
    }
   ],
   "source": [
    "genre_count_track_avrage_time = (track[['TrackId', 'GenreId','Milliseconds']].groupby('GenreId')\n",
    "                                .agg(count_track=('TrackId',np.count_nonzero),\n",
    "                                    avg_time = ('Milliseconds', np.average))\n",
    "                                    .reset_index())\n",
    "\n",
    "genre_count_track_avrage_time['avg_time'] = genre_count_track_avrage_time['avg_time']/60000\n",
    "print(genre_count_track_avrage_time)\n",
    "\n",
    "sns.histplot(genre_count_track_avrage_time['avg_time'])"
   ]
  }
 ],
 "metadata": {
  "kernelspec": {
   "display_name": "Music_venv",
   "language": "python",
   "name": "python3"
  },
  "language_info": {
   "codemirror_mode": {
    "name": "ipython",
    "version": 3
   },
   "file_extension": ".py",
   "mimetype": "text/x-python",
   "name": "python",
   "nbconvert_exporter": "python",
   "pygments_lexer": "ipython3",
   "version": "3.12.3"
  }
 },
 "nbformat": 4,
 "nbformat_minor": 2
}
