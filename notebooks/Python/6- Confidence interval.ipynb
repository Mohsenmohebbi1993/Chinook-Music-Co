{
 "cells": [
  {
   "cell_type": "markdown",
   "metadata": {},
   "source": [
    "# Confidence interval"
   ]
  },
  {
   "cell_type": "code",
   "execution_count": 1,
   "metadata": {},
   "outputs": [],
   "source": [
    "import numpy as np\n",
    "import pandas as pd\n",
    "import os\n",
    "import matplotlib.pyplot as plt\n",
    "import seaborn as sns\n",
    "#-------------------\n",
    "import scipy.stats as stats\n",
    "import statistics"
   ]
  },
  {
   "cell_type": "code",
   "execution_count": 2,
   "metadata": {},
   "outputs": [
    {
     "name": "stdout",
     "output_type": "stream",
     "text": [
      "name album    and file album\n",
      "name artist    and file artist\n",
      "name customer    and file customer\n",
      "name employee    and file employee\n",
      "name genre    and file genre\n",
      "name invoice    and file invoice\n",
      "name invoiceline    and file invoiceline\n",
      "name mediatype    and file mediatype\n",
      "name playlist    and file playlist\n",
      "name playlisttrack    and file playlisttrack\n",
      "name track    and file track\n"
     ]
    }
   ],
   "source": [
    "# read data and create DataFram\n",
    "path = \"D:/Last project Data Analayses/Music Analysis/data/processed/Dataframe\"\n",
    "dir_list = os.listdir(path)\n",
    "variable_names = dir_list.copy()\n",
    "for i in range(len(variable_names)):\n",
    "    variable_names[i] = variable_names[i].replace(\".csv\",\"\")\n",
    "\n",
    "file_names = dir_list\n",
    "\n",
    "for var_name, file_name in zip(variable_names, file_names):\n",
    "    print(f\"name {var_name}    and file {var_name}\")\n",
    "    globals()[var_name] = pd.read_csv(f'D:/Last project Data Analayses/Music Analysis/data/processed/Dataframe/{file_name}').drop(\"Unnamed: 0\", axis=1)\n"
   ]
  },
  {
   "cell_type": "markdown",
   "metadata": {},
   "source": [
    "Is the length of songs the same in different genres? Calculate their 95% confidence interval for the mean length of songs in each genre"
   ]
  },
  {
   "cell_type": "code",
   "execution_count": 3,
   "metadata": {},
   "outputs": [
    {
     "name": "stdout",
     "output_type": "stream",
     "text": [
      "<class 'pandas.core.frame.DataFrame'>\n",
      "RangeIndex: 3503 entries, 0 to 3502\n",
      "Data columns (total 9 columns):\n",
      " #   Column        Non-Null Count  Dtype  \n",
      "---  ------        --------------  -----  \n",
      " 0   TrackId       3503 non-null   int64  \n",
      " 1   Name          3503 non-null   object \n",
      " 2   AlbumId       3503 non-null   int64  \n",
      " 3   MediaTypeId   3503 non-null   int64  \n",
      " 4   GenreId       3503 non-null   int64  \n",
      " 5   Composer      2526 non-null   object \n",
      " 6   Milliseconds  3503 non-null   int64  \n",
      " 7   Bytes         3503 non-null   int64  \n",
      " 8   UnitPrice     3503 non-null   float64\n",
      "dtypes: float64(1), int64(6), object(2)\n",
      "memory usage: 246.4+ KB\n"
     ]
    }
   ],
   "source": [
    "track.info()"
   ]
  },
  {
   "cell_type": "code",
   "execution_count": 4,
   "metadata": {},
   "outputs": [
    {
     "data": {
      "image/png": "[encoded data removed]",
      "text/plain": [
       "<Figure size 1000x500 with 2 Axes>"
      ]
     },
     "metadata": {},
     "output_type": "display_data"
    }
   ],
   "source": [
    "# genre and time with track id\n",
    "# genre and avg time in each genre\n",
    "genre_track_time = (track[['TrackId', 'GenreId','Milliseconds']]).rename(columns ={'Milliseconds':'min'} )\n",
    "genre_track_time['min'] = genre_track_time['min'] / 60000\n",
    "genre_count_track_avrage_time = (genre_track_time.groupby('GenreId')\n",
    "                                .agg(count_track=('TrackId',np.count_nonzero),\n",
    "                                    avg_time = ('min', np.average))\n",
    "                                    .reset_index())\n",
    "genre_count_track_avrage_time\n",
    "plt.figure(figsize=(10,5))\n",
    "plt.subplot(1,2,1)\n",
    "sns.histplot(genre_count_track_avrage_time['avg_time'], kde=True, bins=10)\n",
    "plt.subplot(1,2,2)\n",
    "plt.boxplot(genre_count_track_avrage_time['avg_time'])\n",
    "plt.show()"
   ]
  },
  {
   "cell_type": "markdown",
   "metadata": {},
   "source": [
    "## Assumption test\n",
    "2 way:\n",
    "\n",
    "1. All Data ( outlier data )\n",
    "\n",
    "2. Data without outliers"
   ]
  },
  {
   "cell_type": "code",
   "execution_count": 5,
   "metadata": {},
   "outputs": [
    {
     "name": "stdout",
     "output_type": "stream",
     "text": [
      "H0 is True: The average length of songs in different genres is not the same\n"
     ]
    }
   ],
   "source": [
    "# way 1\n",
    "# test stats.kruskal\n",
    "# more than 2 variables and Unnormal\n",
    "kruskal_test_avg_time = list(genre_count_track_avrage_time['avg_time'])\n",
    "stat, p_value = stats.kruskal(*kruskal_test_avg_time)\n",
    "\n",
    "alpha = 0.05\n",
    "if p_value < alpha:\n",
    "    print(\"H0 is false: The average length of songs in different genres is the same\")\n",
    "else:\n",
    "    print(\"H0 is True: The average length of songs in different genres is not the same\")\n",
    "\n"
   ]
  },
  {
   "cell_type": "code",
   "execution_count": 6,
   "metadata": {},
   "outputs": [
    {
     "name": "stdout",
     "output_type": "stream",
     "text": [
      "H0 is True: The average length of songs in different genres is not the same\n"
     ]
    }
   ],
   "source": [
    "#way 2 without outliers\n",
    "\n",
    "kruskal_test_avg_time = genre_count_track_avrage_time['avg_time']\n",
    "Q1 = np.quantile(kruskal_test_avg_time, 0.25)\n",
    "Q2 = np.quantile(kruskal_test_avg_time, 0.50)\n",
    "Q3 = np.quantile(kruskal_test_avg_time, 0.75)\n",
    "IQR = Q3-Q1\n",
    "kruskal_test_avg_time_clear = list(kruskal_test_avg_time[(kruskal_test_avg_time > (Q1 - 1.5*IQR)) &\n",
    "                                                    (kruskal_test_avg_time < (Q3 + 1.5*IQR))])\n",
    "\n",
    "kruskal_test_avg_time_clear\n",
    "\n",
    "stat, p_value = stats.kruskal(*kruskal_test_avg_time_clear)\n",
    "\n",
    "alpha = 0.05\n",
    "if p_value < alpha:\n",
    "    print(\"H0 is false: The average length of songs in different genres is the same\")\n",
    "else:\n",
    "    print(\"H0 is True: The average length of songs in different genres is not the same\")\n"
   ]
  },
  {
   "cell_type": "markdown",
   "metadata": {},
   "source": [
    "Confidence interval"
   ]
  },
  {
   "cell_type": "code",
   "execution_count": 96,
   "metadata": {},
   "outputs": [
    {
     "name": "stderr",
     "output_type": "stream",
     "text": [
      "C:\\Users\\user\\Oracel19c\\admin\\orcl\\Temp\\ipykernel_11364\\2995870487.py:23: FutureWarning: Setting an item of incompatible dtype is deprecated and will raise an error in a future version of pandas. Value '4.616869640340029' has dtype incompatible with int64, please explicitly cast to a compatible dtype first.\n",
      "  genre_count_track_avrage_time.at[i,'lower_bound'] = bound_value[0]\n",
      "C:\\Users\\user\\Oracel19c\\admin\\orcl\\Temp\\ipykernel_11364\\2995870487.py:24: FutureWarning: Setting an item of incompatible dtype is deprecated and will raise an error in a future version of pandas. Value '4.846798465545348' has dtype incompatible with int64, please explicitly cast to a compatible dtype first.\n",
      "  genre_count_track_avrage_time.at[i,'upper_bound'] = bound_value[1]\n"
     ]
    },
    {
     "data": {
      "text/html": [
       "<div>\n",
       "<style scoped>\n",
       "    .dataframe tbody tr th:only-of-type {\n",
       "        vertical-align: middle;\n",
       "    }\n",
       "\n",
       "    .dataframe tbody tr th {\n",
       "        vertical-align: top;\n",
       "    }\n",
       "\n",
       "    .dataframe thead th {\n",
       "        text-align: right;\n",
       "    }\n",
       "</style>\n",
       "<table border=\"1\" class=\"dataframe\">\n",
       "  <thead>\n",
       "    <tr style=\"text-align: right;\">\n",
       "      <th></th>\n",
       "      <th>GenreId</th>\n",
       "      <th>count_track</th>\n",
       "      <th>avg_time</th>\n",
       "      <th>lower_bound</th>\n",
       "      <th>upper_bound</th>\n",
       "    </tr>\n",
       "  </thead>\n",
       "  <tbody>\n",
       "    <tr>\n",
       "      <th>0</th>\n",
       "      <td>1</td>\n",
       "      <td>1297</td>\n",
       "      <td>4.731834</td>\n",
       "      <td>4.616870</td>\n",
       "      <td>4.846798</td>\n",
       "    </tr>\n",
       "    <tr>\n",
       "      <th>1</th>\n",
       "      <td>2</td>\n",
       "      <td>130</td>\n",
       "      <td>4.862590</td>\n",
       "      <td>4.494074</td>\n",
       "      <td>5.231105</td>\n",
       "    </tr>\n",
       "    <tr>\n",
       "      <th>2</th>\n",
       "      <td>3</td>\n",
       "      <td>374</td>\n",
       "      <td>5.162491</td>\n",
       "      <td>4.980497</td>\n",
       "      <td>5.344484</td>\n",
       "    </tr>\n",
       "    <tr>\n",
       "      <th>3</th>\n",
       "      <td>4</td>\n",
       "      <td>332</td>\n",
       "      <td>3.905897</td>\n",
       "      <td>3.764984</td>\n",
       "      <td>4.046811</td>\n",
       "    </tr>\n",
       "    <tr>\n",
       "      <th>4</th>\n",
       "      <td>5</td>\n",
       "      <td>12</td>\n",
       "      <td>2.244058</td>\n",
       "      <td>2.059170</td>\n",
       "      <td>2.428947</td>\n",
       "    </tr>\n",
       "  </tbody>\n",
       "</table>\n",
       "</div>"
      ],
      "text/plain": [
       "   GenreId  count_track  avg_time  lower_bound  upper_bound\n",
       "0        1         1297  4.731834     4.616870     4.846798\n",
       "1        2          130  4.862590     4.494074     5.231105\n",
       "2        3          374  5.162491     4.980497     5.344484\n",
       "3        4          332  3.905897     3.764984     4.046811\n",
       "4        5           12  2.244058     2.059170     2.428947"
      ]
     },
     "execution_count": 96,
     "metadata": {},
     "output_type": "execute_result"
    }
   ],
   "source": [
    "genre_count_track_avrage_time[['lower_bound', 'upper_bound']]=[0,0]\n",
    "\n",
    "def bound(data, conidence_level):\n",
    "    \"\"\"Find lower_bound and upper_bound\n",
    "    import data and conidence_level\n",
    "    \"\"\"\n",
    "    time_mean = np.mean(data)\n",
    "    time_std = np.std(data)\n",
    "    n = len(data)\n",
    "    z = stats.norm.ppf(1 - (1 - conidence_level) / 2) # critical value\n",
    "    standard_error = time_std / np.sqrt(n)\n",
    "    lower_bound = time_mean - z * standard_error\n",
    "    upper_bound = time_mean + z * standard_error\n",
    "    bound_value = [lower_bound, upper_bound]\n",
    "    return bound_value\n",
    "\n",
    "conidence_level = 0.95\n",
    "for i in range(len(genre_count_track_avrage_time['GenreId'])):\n",
    "    j = genre_count_track_avrage_time.iloc[i]['GenreId']\n",
    "    \n",
    "    data = genre_track_time[genre_track_time['GenreId'] == j]['min']\n",
    "    bound_value = bound(data, conidence_level)\n",
    "    genre_count_track_avrage_time.at[i,'lower_bound'] = bound_value[0]\n",
    "    genre_count_track_avrage_time.at[i,'upper_bound'] = bound_value[1]\n",
    "\n",
    "genre_count_track_avrage_time.head()\n",
    "\n"
   ]
  },
  {
   "cell_type": "markdown",
   "metadata": {},
   "source": [
    "What is the average sales in different countries? Calculate the 95% confidence interval for the mean sales in each country"
   ]
  },
  {
   "cell_type": "code",
   "execution_count": 36,
   "metadata": {},
   "outputs": [
    {
     "name": "stderr",
     "output_type": "stream",
     "text": [
      "C:\\Users\\user\\Oracel19c\\admin\\orcl\\Temp\\ipykernel_11364\\765346684.py:9: FutureWarning: The provided callable <function sum at 0x000001CA7F10D6C0> is currently using SeriesGroupBy.sum. In a future version of pandas, the provided callable will be used directly. To keep current behavior pass the string \"sum\" instead.\n",
      "  .agg(sum_quantity = ('Quantity' , np.sum),\n"
     ]
    },
    {
     "data": {
      "text/html": [
       "<div>\n",
       "<style scoped>\n",
       "    .dataframe tbody tr th:only-of-type {\n",
       "        vertical-align: middle;\n",
       "    }\n",
       "\n",
       "    .dataframe tbody tr th {\n",
       "        vertical-align: top;\n",
       "    }\n",
       "\n",
       "    .dataframe thead th {\n",
       "        text-align: right;\n",
       "    }\n",
       "</style>\n",
       "<table border=\"1\" class=\"dataframe\">\n",
       "  <thead>\n",
       "    <tr style=\"text-align: right;\">\n",
       "      <th></th>\n",
       "      <th>Country</th>\n",
       "      <th>sum_quantity</th>\n",
       "      <th>avg_total_price</th>\n",
       "    </tr>\n",
       "  </thead>\n",
       "  <tbody>\n",
       "    <tr>\n",
       "      <th>6</th>\n",
       "      <td>Chile</td>\n",
       "      <td>38</td>\n",
       "      <td>1.226842</td>\n",
       "    </tr>\n",
       "    <tr>\n",
       "      <th>12</th>\n",
       "      <td>Hungary</td>\n",
       "      <td>38</td>\n",
       "      <td>1.200526</td>\n",
       "    </tr>\n",
       "    <tr>\n",
       "      <th>14</th>\n",
       "      <td>Ireland</td>\n",
       "      <td>38</td>\n",
       "      <td>1.200526</td>\n",
       "    </tr>\n",
       "    <tr>\n",
       "      <th>7</th>\n",
       "      <td>Czech Republic</td>\n",
       "      <td>76</td>\n",
       "      <td>1.187368</td>\n",
       "    </tr>\n",
       "    <tr>\n",
       "      <th>2</th>\n",
       "      <td>Austria</td>\n",
       "      <td>38</td>\n",
       "      <td>1.121579</td>\n",
       "    </tr>\n",
       "  </tbody>\n",
       "</table>\n",
       "</div>"
      ],
      "text/plain": [
       "           Country  sum_quantity  avg_total_price\n",
       "6            Chile            38         1.226842\n",
       "12         Hungary            38         1.200526\n",
       "14         Ireland            38         1.200526\n",
       "7   Czech Republic            76         1.187368\n",
       "2          Austria            38         1.121579"
      ]
     },
     "execution_count": 36,
     "metadata": {},
     "output_type": "execute_result"
    }
   ],
   "source": [
    "country_quantity_price = pd.merge(pd.merge(invoiceline, invoice[['InvoiceId', 'CustomerId']]\n",
    "                                 , left_on='InvoiceId', right_on='InvoiceId'), \n",
    "                                 customer[['CustomerId', 'Country']],\n",
    "                                 right_on='CustomerId' , left_on='CustomerId')\n",
    "country_quantity_price['total_price'] = country_quantity_price['Quantity'] * country_quantity_price['UnitPrice']\n",
    "country_quantity_total_price = country_quantity_price[['Country', 'Quantity', \"total_price\"]]\n",
    "\n",
    "country_sum_quantity_avg_total_price = (country_quantity_total_price.groupby('Country')\n",
    "                                         .agg(sum_quantity = ('Quantity' , np.sum),\n",
    "                                         avg_total_price = ('total_price', np.average))\n",
    "                                         .reset_index()\n",
    "                                         .sort_values(by=\"avg_total_price\",ascending=False))\n",
    "\n",
    "\n",
    "country_sum_quantity_avg_total_price.head()"
   ]
  },
  {
   "cell_type": "code",
   "execution_count": 32,
   "metadata": {},
   "outputs": [
    {
     "name": "stdout",
     "output_type": "stream",
     "text": [
      "H0 is True: The average length of songs in different genres is not the same\n"
     ]
    }
   ],
   "source": [
    "# kruskal test\n",
    "\n",
    "country_sum_quantity_avg_total_price = list(country_sum_quantity_avg_total_price['avg_total_price'])\n",
    "stat, p_value = stats.kruskal(*kruskal_test_avg_time)\n",
    "\n",
    "alpha = 0.05\n",
    "if p_value < alpha:\n",
    "    print(\"H0 is false: The average length of songs in different genres is the same\")\n",
    "else:\n",
    "    print(\"H0 is True: The average length of songs in different genres is not the same\")\n"
   ]
  },
  {
   "cell_type": "code",
   "execution_count": 98,
   "metadata": {},
   "outputs": [
    {
     "name": "stderr",
     "output_type": "stream",
     "text": [
      "C:\\Users\\user\\Oracel19c\\admin\\orcl\\Temp\\ipykernel_11364\\2927703668.py:27: FutureWarning: Setting an item of incompatible dtype is deprecated and will raise an error in a future version of pandas. Value '0.9900000000000002' has dtype incompatible with int64, please explicitly cast to a compatible dtype first.\n",
      "  country_sum_quantity_avg_total_price.at[i,'lower_bound'] = bound_value[0]\n",
      "C:\\Users\\user\\Oracel19c\\admin\\orcl\\Temp\\ipykernel_11364\\2927703668.py:28: FutureWarning: Setting an item of incompatible dtype is deprecated and will raise an error in a future version of pandas. Value '0.9900000000000004' has dtype incompatible with int64, please explicitly cast to a compatible dtype first.\n",
      "  country_sum_quantity_avg_total_price.at[i,'upper_bound'] = bound_value[1]\n"
     ]
    },
    {
     "data": {
      "text/html": [
       "<div>\n",
       "<style scoped>\n",
       "    .dataframe tbody tr th:only-of-type {\n",
       "        vertical-align: middle;\n",
       "    }\n",
       "\n",
       "    .dataframe tbody tr th {\n",
       "        vertical-align: top;\n",
       "    }\n",
       "\n",
       "    .dataframe thead th {\n",
       "        text-align: right;\n",
       "    }\n",
       "</style>\n",
       "<table border=\"1\" class=\"dataframe\">\n",
       "  <thead>\n",
       "    <tr style=\"text-align: right;\">\n",
       "      <th></th>\n",
       "      <th>Country</th>\n",
       "      <th>sum_quantity</th>\n",
       "      <th>avg_total_price</th>\n",
       "      <th>lower_bound</th>\n",
       "      <th>upper_bound</th>\n",
       "    </tr>\n",
       "  </thead>\n",
       "  <tbody>\n",
       "    <tr>\n",
       "      <th>6</th>\n",
       "      <td>Chile</td>\n",
       "      <td>38</td>\n",
       "      <td>1.226842</td>\n",
       "      <td>1.091668</td>\n",
       "      <td>1.362016</td>\n",
       "    </tr>\n",
       "    <tr>\n",
       "      <th>12</th>\n",
       "      <td>Hungary</td>\n",
       "      <td>38</td>\n",
       "      <td>1.200526</td>\n",
       "      <td>1.070904</td>\n",
       "      <td>1.330148</td>\n",
       "    </tr>\n",
       "    <tr>\n",
       "      <th>14</th>\n",
       "      <td>Ireland</td>\n",
       "      <td>38</td>\n",
       "      <td>1.200526</td>\n",
       "      <td>1.070904</td>\n",
       "      <td>1.330148</td>\n",
       "    </tr>\n",
       "    <tr>\n",
       "      <th>7</th>\n",
       "      <td>Czech Republic</td>\n",
       "      <td>76</td>\n",
       "      <td>1.187368</td>\n",
       "      <td>1.097886</td>\n",
       "      <td>1.276851</td>\n",
       "    </tr>\n",
       "    <tr>\n",
       "      <th>2</th>\n",
       "      <td>Austria</td>\n",
       "      <td>38</td>\n",
       "      <td>1.121579</td>\n",
       "      <td>1.014102</td>\n",
       "      <td>1.229056</td>\n",
       "    </tr>\n",
       "  </tbody>\n",
       "</table>\n",
       "</div>"
      ],
      "text/plain": [
       "           Country  sum_quantity  avg_total_price  lower_bound  upper_bound\n",
       "6            Chile            38         1.226842     1.091668     1.362016\n",
       "12         Hungary            38         1.200526     1.070904     1.330148\n",
       "14         Ireland            38         1.200526     1.070904     1.330148\n",
       "7   Czech Republic            76         1.187368     1.097886     1.276851\n",
       "2          Austria            38         1.121579     1.014102     1.229056"
      ]
     },
     "execution_count": 98,
     "metadata": {},
     "output_type": "execute_result"
    }
   ],
   "source": [
    "country_sum_quantity_avg_total_price[['lower_bound', 'upper_bound']]=[0,0]\n",
    "\n",
    "def bound(data, conidence_level):\n",
    "    \"\"\"Find lower_bound and upper_bound\n",
    "    import data and conidence_level\n",
    "    \"\"\"\n",
    "    mean = np.mean(data)\n",
    "    std = np.std(data)\n",
    "    n = len(data)\n",
    "    z = stats.norm.ppf(1 - (1 - conidence_level) / 2) # critical value\n",
    "    standard_error = std / np.sqrt(n)\n",
    "    lower_bound = mean - z * standard_error\n",
    "    upper_bound = mean + z * standard_error\n",
    "    bound_value = [lower_bound, upper_bound , mean]\n",
    "    return bound_value\n",
    "\n",
    "\n",
    "conidence_level = 0.95\n",
    "for i in range(len(country_sum_quantity_avg_total_price['Country'])):\n",
    "    \n",
    "    j = country_sum_quantity_avg_total_price.loc[i]['Country']\n",
    "    \n",
    "    data = country_quantity_total_price[country_quantity_total_price['Country'] == j]['total_price']\n",
    "    # print(np.array(data))\n",
    "    bound_value = bound(data, conidence_level)\n",
    "    \n",
    "    country_sum_quantity_avg_total_price.at[i,'lower_bound'] = bound_value[0]\n",
    "    country_sum_quantity_avg_total_price.at[i,'upper_bound'] = bound_value[1]\n",
    "    \n",
    "country_sum_quantity_avg_total_price.head()"
   ]
  },
  {
   "cell_type": "markdown",
   "metadata": {},
   "source": [
    "What is the average number of songs purchased by each user? Calculate the 95% confidence interval for the mean number of songs purchased by each user"
   ]
  },
  {
   "cell_type": "code",
   "execution_count": 122,
   "metadata": {},
   "outputs": [
    {
     "name": "stderr",
     "output_type": "stream",
     "text": [
      "C:\\Users\\user\\Oracel19c\\admin\\orcl\\Temp\\ipykernel_11364\\550292531.py:8: FutureWarning: The provided callable <function sum at 0x000001CA7F10D6C0> is currently using SeriesGroupBy.sum. In a future version of pandas, the provided callable will be used directly. To keep current behavior pass the string \"sum\" instead.\n",
      "  .agg(sum_quantity = ('Quantity' , np.sum),\n"
     ]
    }
   ],
   "source": [
    "customer_quantity_price = pd.merge(invoiceline, invoice[['InvoiceId', 'CustomerId']]\n",
    "                                 , left_on='InvoiceId', right_on='InvoiceId')\n",
    "\n",
    "customer_quantity_price['total_price'] = customer_quantity_price['Quantity'] * customer_quantity_price['UnitPrice']\n",
    "customer_quantity_total_price = customer_quantity_price[['CustomerId', 'Quantity', \"total_price\"]]\n",
    "\n",
    "customer_sum_quantity_avg_total_price = (customer_quantity_total_price.groupby('CustomerId')\n",
    "                                         .agg(sum_quantity = ('Quantity' , np.sum),\n",
    "                                         avg_total_price = ('total_price', np.average))\n",
    "                                         .reset_index()\n",
    "                                         .sort_values(by=\"avg_total_price\",ascending=False))"
   ]
  },
  {
   "cell_type": "code",
   "execution_count": 124,
   "metadata": {},
   "outputs": [
    {
     "name": "stdout",
     "output_type": "stream",
     "text": [
      "H0 is True: The average length of songs in different genres is not the same\n"
     ]
    }
   ],
   "source": [
    "# kruskal test\n",
    "\n",
    "customer_sum_quantity_avg_total_price_l = list(customer_sum_quantity_avg_total_price['avg_total_price'])\n",
    "stat, p_value = stats.kruskal(*kruskal_test_avg_time)\n",
    "\n",
    "alpha = 0.05\n",
    "if p_value < alpha:\n",
    "    print(\"H0 is false: The average length of songs in different genres is the same\")\n",
    "else:\n",
    "    print(\"H0 is True: The average length of songs in different genres is not the same\")\n"
   ]
  },
  {
   "cell_type": "code",
   "execution_count": 126,
   "metadata": {},
   "outputs": [
    {
     "name": "stderr",
     "output_type": "stream",
     "text": [
      "C:\\Users\\user\\Oracel19c\\admin\\orcl\\Temp\\ipykernel_11364\\271573487.py:27: FutureWarning: Setting an item of incompatible dtype is deprecated and will raise an error in a future version of pandas. Value '0.9716347511779277' has dtype incompatible with int64, please explicitly cast to a compatible dtype first.\n",
      "  customer_sum_quantity_avg_total_price.at[i,'lower_bound'] = bound_value[0]\n",
      "C:\\Users\\user\\Oracel19c\\admin\\orcl\\Temp\\ipykernel_11364\\271573487.py:28: FutureWarning: Setting an item of incompatible dtype is deprecated and will raise an error in a future version of pandas. Value '1.1136284067168098' has dtype incompatible with int64, please explicitly cast to a compatible dtype first.\n",
      "  customer_sum_quantity_avg_total_price.at[i,'upper_bound'] = bound_value[1]\n"
     ]
    },
    {
     "data": {
      "text/html": [
       "<div>\n",
       "<style scoped>\n",
       "    .dataframe tbody tr th:only-of-type {\n",
       "        vertical-align: middle;\n",
       "    }\n",
       "\n",
       "    .dataframe tbody tr th {\n",
       "        vertical-align: top;\n",
       "    }\n",
       "\n",
       "    .dataframe thead th {\n",
       "        text-align: right;\n",
       "    }\n",
       "</style>\n",
       "<table border=\"1\" class=\"dataframe\">\n",
       "  <thead>\n",
       "    <tr style=\"text-align: right;\">\n",
       "      <th></th>\n",
       "      <th>CustomerId</th>\n",
       "      <th>sum_quantity</th>\n",
       "      <th>avg_total_price</th>\n",
       "      <th>lower_bound</th>\n",
       "      <th>upper_bound</th>\n",
       "    </tr>\n",
       "  </thead>\n",
       "  <tbody>\n",
       "    <tr>\n",
       "      <th>5</th>\n",
       "      <td>6</td>\n",
       "      <td>38</td>\n",
       "      <td>1.305789</td>\n",
       "      <td>1.157998</td>\n",
       "      <td>1.453581</td>\n",
       "    </tr>\n",
       "    <tr>\n",
       "      <th>25</th>\n",
       "      <td>26</td>\n",
       "      <td>38</td>\n",
       "      <td>1.253158</td>\n",
       "      <td>1.113150</td>\n",
       "      <td>1.393166</td>\n",
       "    </tr>\n",
       "    <tr>\n",
       "      <th>56</th>\n",
       "      <td>57</td>\n",
       "      <td>38</td>\n",
       "      <td>1.226842</td>\n",
       "      <td>1.091668</td>\n",
       "      <td>1.362016</td>\n",
       "    </tr>\n",
       "    <tr>\n",
       "      <th>45</th>\n",
       "      <td>46</td>\n",
       "      <td>38</td>\n",
       "      <td>1.200526</td>\n",
       "      <td>1.070904</td>\n",
       "      <td>1.330148</td>\n",
       "    </tr>\n",
       "    <tr>\n",
       "      <th>44</th>\n",
       "      <td>45</td>\n",
       "      <td>38</td>\n",
       "      <td>1.200526</td>\n",
       "      <td>1.070904</td>\n",
       "      <td>1.330148</td>\n",
       "    </tr>\n",
       "  </tbody>\n",
       "</table>\n",
       "</div>"
      ],
      "text/plain": [
       "    CustomerId  sum_quantity  avg_total_price  lower_bound  upper_bound\n",
       "5            6            38         1.305789     1.157998     1.453581\n",
       "25          26            38         1.253158     1.113150     1.393166\n",
       "56          57            38         1.226842     1.091668     1.362016\n",
       "45          46            38         1.200526     1.070904     1.330148\n",
       "44          45            38         1.200526     1.070904     1.330148"
      ]
     },
     "execution_count": 126,
     "metadata": {},
     "output_type": "execute_result"
    }
   ],
   "source": [
    "customer_sum_quantity_avg_total_price[['lower_bound', 'upper_bound']]=[0,0]\n",
    "\n",
    "def bound(data, conidence_level):\n",
    "    \"\"\"Find lower_bound and upper_bound\n",
    "    import data and conidence_level\n",
    "    \"\"\"\n",
    "    mean = np.mean(data)\n",
    "    std = np.std(data)\n",
    "    n = len(data)\n",
    "    z = stats.norm.ppf(1 - (1 - conidence_level) / 2) # critical value\n",
    "    standard_error = std / np.sqrt(n)\n",
    "    lower_bound = mean - z * standard_error\n",
    "    upper_bound = mean + z * standard_error\n",
    "    bound_value = [lower_bound, upper_bound , mean]\n",
    "    return bound_value\n",
    "\n",
    "\n",
    "conidence_level = 0.95\n",
    "for i in range(len(customer_sum_quantity_avg_total_price['CustomerId'])):\n",
    "    \n",
    "    j = customer_sum_quantity_avg_total_price.loc[i]['CustomerId']\n",
    "    \n",
    "    data = customer_quantity_total_price[customer_quantity_total_price['CustomerId'] == j]['total_price']\n",
    "    # print(np.array(data))\n",
    "    bound_value = bound(data, conidence_level)\n",
    "    \n",
    "    customer_sum_quantity_avg_total_price.at[i,'lower_bound'] = bound_value[0]\n",
    "    customer_sum_quantity_avg_total_price.at[i,'upper_bound'] = bound_value[1]\n",
    "    \n",
    "customer_sum_quantity_avg_total_price.head()"
   ]
  }
 ],
 "metadata": {
  "kernelspec": {
   "display_name": "Music_venv",
   "language": "python",
   "name": "python3"
  },
  "language_info": {
   "codemirror_mode": {
    "name": "ipython",
    "version": 3
   },
   "file_extension": ".py",
   "mimetype": "text/x-python",
   "name": "python",
   "nbconvert_exporter": "python",
   "pygments_lexer": "ipython3",
   "version": "3.12.3"
  }
 },
 "nbformat": 4,
 "nbformat_minor": 2
}
