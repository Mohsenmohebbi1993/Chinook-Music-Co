{
 "cells": [
  {
   "cell_type": "markdown",
   "metadata": {},
   "source": [
    "# Confidence interval"
   ]
  },
  {
   "cell_type": "code",
   "execution_count": 1,
   "metadata": {},
   "outputs": [],
   "source": [
    "import numpy as np\n",
    "import pandas as pd\n",
    "import os\n",
    "import matplotlib.pyplot as plt\n",
    "import seaborn as sns\n",
    "#-------------------\n",
    "import scipy.stats as stats\n",
    "import statistics"
   ]
  },
  {
   "cell_type": "code",
   "execution_count": 2,
   "metadata": {},
   "outputs": [
    {
     "name": "stdout",
     "output_type": "stream",
     "text": [
      "name album    and file album\n",
      "name artist    and file artist\n",
      "name customer    and file customer\n",
      "name employee    and file employee\n",
      "name genre    and file genre\n",
      "name invoice    and file invoice\n",
      "name invoiceline    and file invoiceline\n",
      "name mediatype    and file mediatype\n",
      "name playlist    and file playlist\n",
      "name playlisttrack    and file playlisttrack\n",
      "name track    and file track\n"
     ]
    }
   ],
   "source": [
    "# read data and create DataFram\n",
    "path = \"D:/Last project Data Analayses/Music Analysis/data/processed/Dataframe\"\n",
    "dir_list = os.listdir(path)\n",
    "variable_names = dir_list.copy()\n",
    "for i in range(len(variable_names)):\n",
    "    variable_names[i] = variable_names[i].replace(\".csv\",\"\")\n",
    "\n",
    "file_names = dir_list\n",
    "\n",
    "for var_name, file_name in zip(variable_names, file_names):\n",
    "    print(f\"name {var_name}    and file {var_name}\")\n",
    "    globals()[var_name] = pd.read_csv(f'D:/Last project Data Analayses/Music Analysis/data/processed/Dataframe/{file_name}').drop(\"Unnamed: 0\", axis=1)\n"
   ]
  }
 ],
 "metadata": {
  "kernelspec": {
   "display_name": "Music_venv",
   "language": "python",
   "name": "python3"
  },
  "language_info": {
   "codemirror_mode": {
    "name": "ipython",
    "version": 3
   },
   "file_extension": ".py",
   "mimetype": "text/x-python",
   "name": "python",
   "nbconvert_exporter": "python",
   "pygments_lexer": "ipython3",
   "version": "3.12.3"
  }
 },
 "nbformat": 4,
 "nbformat_minor": 2
}
